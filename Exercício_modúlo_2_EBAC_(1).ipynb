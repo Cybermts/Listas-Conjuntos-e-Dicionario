{
  "nbformat": 4,
  "nbformat_minor": 0,
  "metadata": {
    "colab": {
      "provenance": []
    },
    "kernelspec": {
      "name": "python3",
      "display_name": "Python 3"
    },
    "language_info": {
      "name": "python"
    }
  },
  "cells": [
    {
      "cell_type": "markdown",
      "source": [
        "##LISTAS\n",
        "\n",
        "Criando uma lista chamada Filmes com o nome dos 10 primeiros filmes mais bem avaliados no site IMDB.\n",
        "\n",
        "Simulando uma movimentação no _ranking_. Utilizando os metódos insert e pop para trocar a posição do primeiro e segundo filme da lista."
      ],
      "metadata": {
        "id": "FdZxaUIlUpsr"
      }
    },
    {
      "cell_type": "code",
      "source": [
        "filmes =['Um sonho de liberdade', 'O poderoso chefão', 'Batman: o cavaleiro das trevas', 'O poderoso chefão II', '12 Homens e uma sentença', 'A lista de chindler', 'O senhor dos anéis: o retorno do rei', 'Pulp fiction: tempo de violência', 'O senhor dos anéis: A Sociedade do anel', 'Três homens em conflito']\n",
        "print (filmes)\n",
        "#Utilizando o método insert\n",
        "filmes.insert(0, 'O poderoso chefão')\n",
        "print (filmes)\n",
        "#Utilizando o método pop\n",
        "filmes=filmes.pop(0)\n",
        "print(filmes)"
      ],
      "metadata": {
        "colab": {
          "base_uri": "https://localhost:8080/"
        },
        "id": "bOCXZ-adGgAu",
        "outputId": "a7694024-a964-4ea8-b8ce-3b115f186ed8"
      },
      "execution_count": null,
      "outputs": [
        {
          "output_type": "stream",
          "name": "stdout",
          "text": [
            "['Um sonho de liberdade', 'O poderoso chefão', 'Batman: o cavaleiro das trevas', 'O poderoso chefão II', '12 Homens e uma sentença', 'A lista de chindler', 'O senhor dos anéis: o retorno do rei', 'Pulp fiction: tempo de violência', 'O senhor dos anéis: A Sociedade do anel', 'Três homens em conflito']\n",
            "['O poderoso chefão', 'Um sonho de liberdade', 'O poderoso chefão', 'Batman: o cavaleiro das trevas', 'O poderoso chefão II', '12 Homens e uma sentença', 'A lista de chindler', 'O senhor dos anéis: o retorno do rei', 'Pulp fiction: tempo de violência', 'O senhor dos anéis: A Sociedade do anel', 'Três homens em conflito']\n",
            "O poderoso chefão\n"
          ]
        }
      ]
    },
    {
      "cell_type": "markdown",
      "source": [
        "## CONJUNTOS\n",
        "\n",
        "Aconteceu um erro no ranking. Simule a duplicação dos três últimos filmes da lista. \n",
        "\n",
        "Utilize a conversão Set e List para remover os valores duplicados. "
      ],
      "metadata": {
        "id": "LjhGR3VFb5-O"
      }
    },
    {
      "cell_type": "code",
      "source": [
        "filmes = ['Um sonho de liberdade', 'O poderoso chefão', 'Batman: o cavaleiro das trevas', 'O poderoso chefão II', '12 Homens e uma sentença', 'A lista de chindler', 'O senhor dos anéis: o retorno do rei', 'Pulp fiction: tempo de violência', 'O senhor dos anéis: A Sociedade do anel', 'Três homens em conflito', 'Pulp fiction: tempo de violência', 'O senhor dos anéis: A Sociedade do anel', 'Três homens em conflito']\n",
        "print (filmes)\n",
        "\n",
        "filmes = {'Um sonho de liberdade', 'O poderoso chefão', 'Batman: o cavaleiro das trevas', 'O poderoso chefão II', '12 Homens e uma sentença', 'A lista de chindler', 'O senhor dos anéis: o retorno do rei', 'Pulp fiction: tempo de violência', 'O senhor dos anéis: A Sociedade do anel', 'Três homens em conflito', 'Pulp fiction: tempo de violência', 'O senhor dos anéis: A Sociedade do anel', 'Três homens em conflito'}\n",
        "print (filmes)\n",
        "#Utilizando o método Set\n",
        "print (type(filmes))\n",
        "#Utilizando o métopdo List\n",
        "print (type(list(filmes)))"
      ],
      "metadata": {
        "colab": {
          "base_uri": "https://localhost:8080/"
        },
        "id": "eUSM1wVTcT5A",
        "outputId": "3bab9d15-8679-42a2-95dc-b7768902365f"
      },
      "execution_count": null,
      "outputs": [
        {
          "output_type": "stream",
          "name": "stdout",
          "text": [
            "['Um sonho de liberdade', 'O poderoso chefão', 'Batman: o cavaleiro das trevas', 'O poderoso chefão II', '12 Homens e uma sentença', 'A lista de chindler', 'O senhor dos anéis: o retorno do rei', 'Pulp fiction: tempo de violência', 'O senhor dos anéis: A Sociedade do anel', 'Três homens em conflito', 'Pulp fiction: tempo de violência', 'O senhor dos anéis: A Sociedade do anel', 'Três homens em conflito']\n",
            "{'Batman: o cavaleiro das trevas', 'O poderoso chefão II', '12 Homens e uma sentença', 'O senhor dos anéis: o retorno do rei', 'A lista de chindler', 'O poderoso chefão', 'Três homens em conflito', 'Um sonho de liberdade', 'Pulp fiction: tempo de violência', 'O senhor dos anéis: A Sociedade do anel'}\n",
            "<class 'set'>\n",
            "<class 'list'>\n"
          ]
        }
      ]
    },
    {
      "cell_type": "markdown",
      "source": [
        "##3. Dicionários\n",
        "\n",
        "Repetindo a lista de filmes.Porém, os elementos da lista filmes devem ser dicionários no seguinte formato:\n",
        "\n",
        " {'nome': < nome do filmes >, 'ano': < ano do filme > },\n",
        "\n",
        "'sinopse' : < sinopse do filme >.\n"
      ],
      "metadata": {
        "id": "9gLkUOU90pco"
      }
    },
    {
      "cell_type": "code",
      "source": [
        "filmes = ['Um sonho de liberdade', 'O poderoso chefão', 'Batman: o cavaleiro das trevas', 'O poderoso chefão II', '12 Homens e uma sentença', 'A lista de chindler', 'O senhor dos anéis: o retorno do rei', 'Pulp fiction: tempo de violência', 'O senhor dos anéis: A Sociedade do anel', 'Três homens em conflito', 'Pulp fiction: tempo de violência', 'O senhor dos anéis: A Sociedade do anel', 'Três homens em conflito']\n",
        "print (filmes)\n",
        "\n",
        "\n",
        "\n",
        "filmes =[]\n",
        "\n",
        "filme1 = {'nome': 'Um sonho de liberdade', 'ano': 1994,\n",
        "        'sinopse': 'Dois homens presos se reúnem ao longo de vários anos, encontrando consolo e eventual redenção através de atos de decência comum.'}\n",
        "filmes.append(filme1)\n",
        "\n",
        "filme2 = {'nome': 'O poderoso chefão', 'ano': 1972,\n",
        "            'sinopse': 'O patriarca idoso de uma dinastia do crime organizado transfere o controle de seu império clandestino para seu filho relutante.'}\n",
        "filmes.append(filme2)\n",
        "            \n",
        "filme3 = {'nome': 'Batman O cavaleiro das trevas', 'ano': 2008,\n",
        "        'sinopse': 'Quando a ameaça conhecida como O Coringa surge de seu passado, causa estragos e caos nas pessoas de Gotham. O Cavaleiro das Trevas deve aceitar um dos maiores testes para combater a injustiça.'}\n",
        "filmes.append(filme3)\n",
        "         \n",
        "filme4 = {'nome': 'O poderoso chefão II', 'ano': 1974,\n",
        "            'sinopse': 'Em 1950, Michael Corleone, agora à frente da família, tenta expandir o negócio do crime a Las Vegas, Los Angeles e Cuba. Paralelamente, é revelada a história de Vito Corleone, e de como saiu da Sicília e chegou a Nova Iorque.'}\n",
        "filmes.append(filme4)\n",
        "             \n",
        "filme5 = {'nome': '12 Homens e uma sentença', 'ano': 1957,\n",
        "        'sinopse': 'Um jurado que se aposenta tenta evitar um erro judicial forçando seus colegas a reconsiderarem as evidências.'}\n",
        "filmes.append(filme5)\n",
        "        \n",
        "filme6 = {'nome': 'A lista de Chindler', 'ano': 2003,\n",
        "            'sinopse': 'Depois de testemunhar a perseguição dos judaicos na Polônia ocupada pelos alemães durante a Segunda Guerra Mundial, o industrial Oskar Schindler se começa a preocupar com sua força de trabalho judaica.'}\n",
        "filmes.append(filme6)\n",
        "            \n",
        "filme7 = {'nome': 'O senhor dos anéis: o retorno do rei', 'ano': 1994,\n",
        "        'sinopse': 'Gandalf e Aragorn lideram o Mundo dos Homens contra o exército de Sauron para desviar o olhar de Frodo e Sam quando eles se aproximam á Montanha da Perdição com o Um Anel.'}\n",
        "filmes.append(filme7)\n",
        "\n",
        "filme8 = {'nome': 'Pulp fiction: Tempo de violência', 'ano': 1994,\n",
        "            'sinopse': 'As vidas de dois assassinos da máfia, um boxeador, um gângster e sua esposa, e um par de bandidos se entrelaçam em quatro histórias de violência e redenção.'}\n",
        "filmes.append(filme8)\n",
        "            \n",
        "filme9 = {'nome': 'O senhor dos anéis: A sociedade do Anel', 'ano': 2001,\n",
        "        'sinopse': 'Um manso hobbit do Condado e oito companheiros partem em uma jornada para destruir o poderoso Um Anel e salvar a Terra-média das Trevas.'}\n",
        "filmes.append(filme9)\n",
        "       \n",
        "filme10 = {'nome': 'Três homens em conflito', 'ano': 1966,\n",
        "            'sinopse': 'Um impostor se junta com dois homens para encontrar fortuna num remoto cemitério.'}\n",
        "filmes.append(filme10)\n",
        "\n",
        "print (filmes)\n",
        "\n"
      ],
      "metadata": {
        "id": "z7PStwU60o5g",
        "colab": {
          "base_uri": "https://localhost:8080/"
        },
        "outputId": "d4536efb-dc79-46d6-ab26-67f38ed8a43e"
      },
      "execution_count": null,
      "outputs": [
        {
          "output_type": "stream",
          "name": "stdout",
          "text": [
            "['Um sonho de liberdade', 'O poderoso chefão', 'Batman: o cavaleiro das trevas', 'O poderoso chefão II', '12 Homens e uma sentença', 'A lista de chindler', 'O senhor dos anéis: o retorno do rei', 'Pulp fiction: tempo de violência', 'O senhor dos anéis: A Sociedade do anel', 'Três homens em conflito', 'Pulp fiction: tempo de violência', 'O senhor dos anéis: A Sociedade do anel', 'Três homens em conflito']\n",
            "[{'nome': 'Um sonho de liberdade', 'ano': 1994, 'sinopse': 'Dois homens presos se reúnem ao longo de vários anos, encontrando consolo e eventual redenção através de atos de decência comum.'}, {'nome': 'O poderoso chefão', 'ano': 1972, 'sinopse': 'O patriarca idoso de uma dinastia do crime organizado transfere o controle de seu império clandestino para seu filho relutante.'}, {'nome': 'Batman O cavaleiro das trevas', 'ano': 2008, 'sinopse': 'Quando a ameaça conhecida como O Coringa surge de seu passado, causa estragos e caos nas pessoas de Gotham. O Cavaleiro das Trevas deve aceitar um dos maiores testes para combater a injustiça.'}, {'nome': 'O poderoso chefão II', 'ano': 1974, 'sinopse': 'Em 1950, Michael Corleone, agora à frente da família, tenta expandir o negócio do crime a Las Vegas, Los Angeles e Cuba. Paralelamente, é revelada a história de Vito Corleone, e de como saiu da Sicília e chegou a Nova Iorque.'}, {'nome': '12 Homens e uma sentença', 'ano': 1957, 'sinopse': 'Um jurado que se aposenta tenta evitar um erro judicial forçando seus colegas a reconsiderarem as evidências.'}, {'nome': 'A lista de Chindler', 'ano': 2003, 'sinopse': 'Depois de testemunhar a perseguição dos judaicos na Polônia ocupada pelos alemães durante a Segunda Guerra Mundial, o industrial Oskar Schindler se começa a preocupar com sua força de trabalho judaica.'}, {'nome': 'O senhor dos anéis: o retorno do rei', 'ano': 1994, 'sinopse': 'Gandalf e Aragorn lideram o Mundo dos Homens contra o exército de Sauron para desviar o olhar de Frodo e Sam quando eles se aproximam á Montanha da Perdição com o Um Anel.'}, {'nome': 'Pulp fiction: Tempo de violência', 'ano': 1994, 'sinopse': 'As vidas de dois assassinos da máfia, um boxeador, um gângster e sua esposa, e um par de bandidos se entrelaçam em quatro histórias de violência e redenção.'}, {'nome': 'O senhor dos anéis: A sociedade do Anel', 'ano': 2001, 'sinopse': 'Um manso hobbit do Condado e oito companheiros partem em uma jornada para destruir o poderoso Um Anel e salvar a Terra-média das Trevas.'}, {'nome': 'Três homens em conflito', 'ano': 1966, 'sinopse': 'Um impostor se junta com dois homens para encontrar fortuna num remoto cemitério.'}]\n"
          ]
        }
      ]
    }
  ]
}